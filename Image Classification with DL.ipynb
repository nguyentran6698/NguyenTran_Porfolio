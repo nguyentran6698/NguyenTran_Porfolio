{
  "nbformat": 4,
  "nbformat_minor": 0,
  "metadata": {
    "colab": {
      "provenance": []
    },
    "kernelspec": {
      "name": "python3",
      "display_name": "Python 3"
    },
    "language_info": {
      "name": "python"
    }
  },
  "cells": [
    {
      "cell_type": "markdown",
      "source": [
        "# About\n",
        "\n",
        " Nguyen Tran\n",
        "\n",
        "This is a dog vs cat dataset, downloadable via kaggle or for microsoft see [Dogs and Cats](https://www.microsoft.com/en-us/download/details.aspx?id=54765)"
      ],
      "metadata": {
        "id": "11FQtBvuX0sm"
      }
    },
    {
      "cell_type": "code",
      "execution_count": 1,
      "metadata": {
        "id": "Wnejy3guLOu3"
      },
      "outputs": [],
      "source": [
        "import tensorflow as tf\n",
        "from tensorflow import keras\n",
        "from tensorflow.keras import layers"
      ]
    },
    {
      "cell_type": "code",
      "source": [
        "!curl -O https://download.microsoft.com/download/3/E/1/3E1C3F21-ECDB-4869-8368-6DEBA77B919F/kagglecatsanddogs_5340.zip"
      ],
      "metadata": {
        "id": "25wu0syfLUDs",
        "colab": {
          "base_uri": "https://localhost:8080/"
        },
        "outputId": "62a0abb2-0969-4a67-cd93-434f9bab6058"
      },
      "execution_count": 2,
      "outputs": [
        {
          "output_type": "stream",
          "name": "stdout",
          "text": [
            "  % Total    % Received % Xferd  Average Speed   Time    Time     Time  Current\n",
            "                                 Dload  Upload   Total   Spent    Left  Speed\n",
            "100  786M  100  786M    0     0  53.9M      0  0:00:14  0:00:14 --:--:-- 69.0M\n"
          ]
        }
      ]
    },
    {
      "cell_type": "code",
      "source": [
        "!unzip -q kagglecatsanddogs_5340.zip\n",
        "!ls"
      ],
      "metadata": {
        "id": "x4XgtQmALWiU",
        "colab": {
          "base_uri": "https://localhost:8080/"
        },
        "outputId": "0fa1616a-ad41-4cac-ac6e-230a8c32109d"
      },
      "execution_count": 3,
      "outputs": [
        {
          "output_type": "stream",
          "name": "stdout",
          "text": [
            "replace PetImages/Cat/0.jpg? [y]es, [n]o, [A]ll, [N]one, [r]ename: A\n",
            " CDLA-Permissive-2.0.pdf      PetImages        sample_data\n",
            " kagglecatsanddogs_5340.zip  'readme[1].txt'\n"
          ]
        }
      ]
    },
    {
      "cell_type": "code",
      "source": [
        "# removing corrupted image files\n",
        "import os\n",
        "\n",
        "folders = \"Cat\",\"Dog\"\n",
        "for folder in folders:\n",
        "  p = os.path.join(\"PetImages\", folder)\n",
        "  for name in os.listdir(p):\n",
        "    fp = os.path.join(p,name)\n",
        "    try:\n",
        "      y = open(fp, 'rb')\n",
        "      x = tf.compat.as_bytes(\"JFIF\") in y.peek(10)\n",
        "    finally:\n",
        "      y.close()\n",
        "    if not x:\n",
        "      os.remove(fp)"
      ],
      "metadata": {
        "id": "VOhFiU3YS_Ch"
      },
      "execution_count": 4,
      "outputs": []
    },
    {
      "cell_type": "code",
      "source": [
        "# splitting into train & validation\n",
        "IMAGE_SIZE = 180,180\n",
        "BATCH_SIZE = 32\n",
        "EPOCHS = 2\n",
        "\n",
        "train_ds, val_ds = tf.keras.utils.image_dataset_from_directory(\n",
        "    \"PetImages\",\n",
        "    validation_split=0.2,\n",
        "    subset=\"both\",\n",
        "    seed=1337,\n",
        "    image_size=IMAGE_SIZE,\n",
        "    batch_size=BATCH_SIZE,\n",
        ")"
      ],
      "metadata": {
        "id": "UxRPJVQlL_fv",
        "colab": {
          "base_uri": "https://localhost:8080/"
        },
        "outputId": "1929f203-8356-41b0-9900-78a98917e799"
      },
      "execution_count": 5,
      "outputs": [
        {
          "output_type": "stream",
          "name": "stdout",
          "text": [
            "Found 23410 files belonging to 2 classes.\n",
            "Using 18728 files for training.\n",
            "Using 4682 files for validation.\n"
          ]
        }
      ]
    },
    {
      "cell_type": "markdown",
      "source": [
        "## Sequential Model"
      ],
      "metadata": {
        "id": "B13Ddea8TLoo"
      }
    },
    {
      "cell_type": "code",
      "source": [
        "from tensorflow.keras.models import Sequential\n",
        "from tensorflow.keras.layers import Dense, Flatten\n",
        "\n",
        "# Define the sequential model\n",
        "model = Sequential([\n",
        "    Flatten(input_shape=(180, 180, 3)),\n",
        "    Dense(128, activation='relu'),\n",
        "    Dense(64, activation='relu'),\n",
        "    Dense(1, activation='sigmoid')\n",
        "])"
      ],
      "metadata": {
        "id": "QYo37_HxSFKm"
      },
      "execution_count": 6,
      "outputs": []
    },
    {
      "cell_type": "code",
      "source": [
        "# Compile the model\n",
        "model.compile(optimizer='adam',\n",
        "              loss='binary_crossentropy',\n",
        "              metrics=['accuracy'])"
      ],
      "metadata": {
        "id": "fFJA8h7JReya"
      },
      "execution_count": 7,
      "outputs": []
    },
    {
      "cell_type": "code",
      "source": [
        "# Train the model\n",
        "history = model.fit(train_ds,\n",
        "                    epochs=EPOCHS,\n",
        "                    validation_data=val_ds)"
      ],
      "metadata": {
        "colab": {
          "base_uri": "https://localhost:8080/"
        },
        "id": "TlMDDVpqSKTJ",
        "outputId": "5a1af32d-d88a-48bf-fb88-f814a5349ad2"
      },
      "execution_count": 8,
      "outputs": [
        {
          "output_type": "stream",
          "name": "stdout",
          "text": [
            "Epoch 1/2\n",
            "586/586 [==============================] - 185s 314ms/step - loss: 355.8236 - accuracy: 0.5174 - val_loss: 22.6185 - val_accuracy: 0.5201\n",
            "Epoch 2/2\n",
            "586/586 [==============================] - 166s 281ms/step - loss: 8.7974 - accuracy: 0.5430 - val_loss: 0.7793 - val_accuracy: 0.5416\n"
          ]
        }
      ]
    },
    {
      "cell_type": "code",
      "source": [
        "# Evaluate the model on the validation data\n",
        "_, test_acc = model.evaluate(val_ds, verbose=2)\n",
        "print('Test accuracy:', test_acc)"
      ],
      "metadata": {
        "colab": {
          "base_uri": "https://localhost:8080/"
        },
        "id": "rNQr8CEOT59H",
        "outputId": "ca4e428c-4a2f-4a44-d8ee-8257cd8d1d37"
      },
      "execution_count": 9,
      "outputs": [
        {
          "output_type": "stream",
          "name": "stdout",
          "text": [
            "147/147 - 9s - loss: 0.7793 - accuracy: 0.5416 - 9s/epoch - 64ms/step\n",
            "Test accuracy: 0.5416488647460938\n"
          ]
        }
      ]
    },
    {
      "cell_type": "markdown",
      "source": [
        "## CNN Model"
      ],
      "metadata": {
        "id": "Y1QvhvqwUBZQ"
      }
    },
    {
      "cell_type": "code",
      "source": [
        "from tensorflow.keras.layers import Conv2D, MaxPooling2D, Dropout, LSTM\n",
        "# Define the CNN model\n",
        "model_cnn = Sequential([\n",
        "    Conv2D(16, (3,3), activation='relu', input_shape=(180, 180, 3)),\n",
        "    MaxPooling2D(2, 2),\n",
        "    Conv2D(32, (3,3), activation='relu'),\n",
        "    MaxPooling2D(2,2),\n",
        "    Conv2D(64, (3,3), activation='relu'),\n",
        "    MaxPooling2D(2,2),\n",
        "    Flatten(),\n",
        "    Dense(512, activation='relu'),\n",
        "    Dropout(0.5),\n",
        "    Dense(1, activation='sigmoid')\n",
        "])"
      ],
      "metadata": {
        "id": "4wl8oAF8UDxI"
      },
      "execution_count": 13,
      "outputs": []
    },
    {
      "cell_type": "code",
      "source": [
        "# Compile the CNN model\n",
        "model_cnn.compile(optimizer='adam',\n",
        "              loss='binary_crossentropy',\n",
        "              metrics=['accuracy'])"
      ],
      "metadata": {
        "id": "k_FujNwLUG-I"
      },
      "execution_count": 14,
      "outputs": []
    },
    {
      "cell_type": "code",
      "source": [
        "# Train the CNN model\n",
        "history_cnn = model_cnn.fit(train_ds,\n",
        "                            epochs=EPOCHS,\n",
        "                            validation_data=val_ds)"
      ],
      "metadata": {
        "colab": {
          "base_uri": "https://localhost:8080/"
        },
        "id": "EJAABb8lUKf8",
        "outputId": "a89b5774-418e-48cc-89b9-12dd9318e883"
      },
      "execution_count": 15,
      "outputs": [
        {
          "output_type": "stream",
          "name": "stdout",
          "text": [
            "Epoch 1/2\n",
            "586/586 [==============================] - 756s 1s/step - loss: 3.8763 - accuracy: 0.5705 - val_loss: 0.6842 - val_accuracy: 0.5519\n",
            "Epoch 2/2\n",
            "586/586 [==============================] - 789s 1s/step - loss: 0.6540 - accuracy: 0.6083 - val_loss: 0.6733 - val_accuracy: 0.5739\n"
          ]
        }
      ]
    },
    {
      "cell_type": "code",
      "source": [
        "# Evaluate the CNN model on the test data\n",
        "_, test_acc_cnn = model_cnn.evaluate(val_ds, verbose=2)\n",
        "print('Test accuracy (CNN):', test_acc_cnn)"
      ],
      "metadata": {
        "colab": {
          "base_uri": "https://localhost:8080/"
        },
        "id": "k6lZRyCTUNoO",
        "outputId": "40b1ba71-0467-4592-aa4e-0baa4412b737"
      },
      "execution_count": 16,
      "outputs": [
        {
          "output_type": "stream",
          "name": "stdout",
          "text": [
            "147/147 - 48s - loss: 0.6733 - accuracy: 0.5739 - 48s/epoch - 325ms/step\n",
            "Test accuracy (CNN): 0.573900043964386\n"
          ]
        }
      ]
    },
    {
      "cell_type": "markdown",
      "source": [
        "## Transfer Learning"
      ],
      "metadata": {
        "id": "4NFt0nROU6l5"
      }
    },
    {
      "cell_type": "code",
      "source": [
        "from tensorflow.keras.applications.resnet50 import ResNet50\n",
        "# Define the pre-trained ResNet50 model\n",
        "base_model = ResNet50(weights='imagenet', include_top=False, input_shape=(180, 180, 3))\n",
        "# Freeze the base model layers\n",
        "for layer in base_model.layers:\n",
        "    layer.trainable = False"
      ],
      "metadata": {
        "colab": {
          "base_uri": "https://localhost:8080/"
        },
        "id": "qyiNtvN0U5k-",
        "outputId": "485ac31f-2578-4166-9eb2-a1d5bdafe72e"
      },
      "execution_count": 28,
      "outputs": [
        {
          "output_type": "stream",
          "name": "stdout",
          "text": [
            "Downloading data from https://storage.googleapis.com/tensorflow/keras-applications/resnet/resnet50_weights_tf_dim_ordering_tf_kernels_notop.h5\n",
            "94765736/94765736 [==============================] - 1s 0us/step\n"
          ]
        }
      ]
    },
    {
      "cell_type": "code",
      "source": [
        "# Add new layers for classification\n",
        "x = base_model.output\n",
        "x = Flatten()(x)\n",
        "x = Dense(512, activation='relu')(x)\n",
        "x = Dropout(0.5)(x)\n",
        "predictions = Dense(1, activation='sigmoid')(x)"
      ],
      "metadata": {
        "id": "oEd0kPznU_Mb"
      },
      "execution_count": 29,
      "outputs": []
    },
    {
      "cell_type": "code",
      "source": [
        "# Combine the base model and new layers\n",
        "model_transfer = tf.keras.models.Model(inputs=base_model.input, outputs=predictions)\n",
        "\n",
        "# Compile the model\n",
        "model_transfer.compile(optimizer='adam', \n",
        "                       loss='categorical_crossentropy', \n",
        "                       metrics=['accuracy'])"
      ],
      "metadata": {
        "id": "a1KuE9tAVCUi"
      },
      "execution_count": 30,
      "outputs": []
    },
    {
      "cell_type": "code",
      "source": [
        "# Train the model\n",
        "history_transfer = model_transfer.fit(train_ds,\n",
        "                                      epochs=EPOCHS,\n",
        "                                      validation_data=val_ds)"
      ],
      "metadata": {
        "colab": {
          "base_uri": "https://localhost:8080/"
        },
        "id": "qlGJWaGvVGrH",
        "outputId": "ac5a45b0-5ae1-4338-c8e2-7f7c1231da3e"
      },
      "execution_count": 31,
      "outputs": [
        {
          "metadata": {
            "tags": null
          },
          "name": "stdout",
          "output_type": "stream",
          "text": [
            "Epoch 1/2\n"
          ]
        },
        {
          "metadata": {
            "tags": null
          },
          "name": "stderr",
          "output_type": "stream",
          "text": [
            "/usr/local/lib/python3.9/dist-packages/tensorflow/python/util/dispatch.py:1176: SyntaxWarning: In loss categorical_crossentropy, expected y_pred.shape to be (batch_size, num_classes) with num_classes > 1. Received: y_pred.shape=(None, 1). Consider using 'binary_crossentropy' if you only have 2 classes.\n",
            "  return dispatch_target(*args, **kwargs)\n"
          ]
        },
        {
          "output_type": "stream",
          "name": "stdout",
          "text": [
            "586/586 [==============================] - 3149s 5s/step - loss: 0.0000e+00 - accuracy: 0.5034 - val_loss: 0.0000e+00 - val_accuracy: 0.4957\n",
            "Epoch 2/2\n",
            "586/586 [==============================] - 3077s 5s/step - loss: 0.0000e+00 - accuracy: 0.5030 - val_loss: 0.0000e+00 - val_accuracy: 0.4957\n"
          ]
        }
      ]
    },
    {
      "cell_type": "code",
      "source": [
        "_, test_acc_transfer = model_transfer.evaluate(val_ds, verbose=2)\n",
        "print('Test accuracy (transfer learning):', test_acc_transfer)"
      ],
      "metadata": {
        "colab": {
          "base_uri": "https://localhost:8080/"
        },
        "id": "kSwBro6AVSeF",
        "outputId": "b844129a-20df-41a2-afec-818a4c45eaaa"
      },
      "execution_count": 32,
      "outputs": [
        {
          "output_type": "stream",
          "name": "stdout",
          "text": [
            "147/147 - 570s - loss: 0.0000e+00 - accuracy: 0.4957 - 570s/epoch - 4s/step\n",
            "Test accuracy (transfer learning): 0.4957283139228821\n"
          ]
        }
      ]
    },
    {
      "cell_type": "markdown",
      "source": [
        "## Compare"
      ],
      "metadata": {
        "id": "qK4VAEpcVXD0"
      }
    },
    {
      "cell_type": "code",
      "source": [
        "# Compare the test accuracies of all models\n",
        "print('Test accuracy (Sequential):', test_acc)\n",
        "print('Test accuracy (CNN):', test_acc_cnn)\n",
        "print('Test accuracy (transfer learning):', test_acc_transfer)"
      ],
      "metadata": {
        "colab": {
          "base_uri": "https://localhost:8080/"
        },
        "id": "z03bm6uRVHVm",
        "outputId": "88f6e95f-6988-457e-f5b2-f32b786d2b1d"
      },
      "execution_count": 34,
      "outputs": [
        {
          "output_type": "stream",
          "name": "stdout",
          "text": [
            "Test accuracy (Sequential): 0.5416488647460938\n",
            "Test accuracy (CNN): 0.573900043964386\n",
            "Test accuracy (transfer learning): 0.4957283139228821\n"
          ]
        }
      ]
    },
    {
      "cell_type": "code",
      "source": [
        "import matplotlib.pyplot as plt\n",
        "\n",
        "# Plot the training and validation accuracy curves for all models\n",
        "plt.plot(history.history['accuracy'], label='Sequential')\n",
        "plt.plot(history_cnn.history['accuracy'], label='CNN')\n",
        "plt.plot(history_transfer.history['accuracy'], label='Transfer Learning')\n",
        "plt.title('Training Accuracy')\n",
        "plt.ylabel('Accuracy')\n",
        "plt.xlabel('Epoch')\n",
        "plt.legend()\n",
        "plt.show()\n",
        "\n",
        "# Plot the training and validation loss curves for all models\n",
        "plt.plot(history.history['loss'], label='Sequential')\n",
        "plt.plot(history_cnn.history['loss'], label='CNN')\n",
        "plt.plot(history_transfer.history['loss'], label='Transfer Learning')\n",
        "plt.title('Training Loss')\n",
        "plt.ylabel('Loss')\n",
        "plt.xlabel('Epoch')\n",
        "plt.legend()\n",
        "plt.show()"
      ],
      "metadata": {
        "colab": {
          "base_uri": "https://localhost:8080/",
          "height": 927
        },
        "id": "B1HFszwDVaiy",
        "outputId": "a4579e81-304e-41cc-de35-403b272ad17c"
      },
      "execution_count": 35,
      "outputs": [
        {
          "output_type": "display_data",
          "data": {
            "text/plain": [
              "<Figure size 640x480 with 1 Axes>"
            ],
            "image/png": "[encoded data removed]"
          },
          "metadata": {}
        },
        {
          "output_type": "display_data",
          "data": {
            "text/plain": [
              "<Figure size 640x480 with 1 Axes>"
            ],
            "image/png": "[encoded data removed]"
          },
          "metadata": {}
        }
      ]
    }
  ]
}